{
 "cells": [
  {
   "cell_type": "code",
   "execution_count": 2,
   "id": "e2e2e7f5",
   "metadata": {},
   "outputs": [],
   "source": [
    "#1 імпорт файлу\n",
    "import pandas as pd\n",
    "import numpy as np\n",
    "\n",
    "df = pd.read_csv(\"C:/Users/Саша/Desktop/bestsellers with categories.csv\", encoding=\"cp1251\")"
   ]
  },
  {
   "cell_type": "code",
   "execution_count": null,
   "id": "1348f6da",
   "metadata": {},
   "outputs": [],
   "source": [
    "#2.\tВиведіть перші 10 рядків (метод head)\n",
    "df.head(10)"
   ]
  },
  {
   "cell_type": "code",
   "execution_count": 3,
   "id": "065b662a",
   "metadata": {},
   "outputs": [
    {
     "data": {
      "text/plain": [
       "(550, 7)"
      ]
     },
     "execution_count": 3,
     "metadata": {},
     "output_type": "execute_result"
    }
   ],
   "source": [
    "#3.\tВиведіть розміри датасету (метод shape)\n",
    "df.shape\n",
    "#550 книжок"
   ]
  },
  {
   "cell_type": "code",
   "execution_count": 5,
   "id": "31334fff",
   "metadata": {},
   "outputs": [
    {
     "data": {
      "text/html": [
       "<div>\n",
       "<style scoped>\n",
       "    .dataframe tbody tr th:only-of-type {\n",
       "        vertical-align: middle;\n",
       "    }\n",
       "\n",
       "    .dataframe tbody tr th {\n",
       "        vertical-align: top;\n",
       "    }\n",
       "\n",
       "    .dataframe thead th {\n",
       "        text-align: right;\n",
       "    }\n",
       "</style>\n",
       "<table border=\"1\" class=\"dataframe\">\n",
       "  <thead>\n",
       "    <tr style=\"text-align: right;\">\n",
       "      <th></th>\n",
       "      <th>name</th>\n",
       "      <th>author</th>\n",
       "      <th>user_rating</th>\n",
       "      <th>reviews</th>\n",
       "      <th>price</th>\n",
       "      <th>year</th>\n",
       "      <th>genre</th>\n",
       "    </tr>\n",
       "  </thead>\n",
       "  <tbody>\n",
       "    <tr>\n",
       "      <th>0</th>\n",
       "      <td>10-Day Green Smoothie Cleanse</td>\n",
       "      <td>JJ Smith</td>\n",
       "      <td>4.7</td>\n",
       "      <td>17350</td>\n",
       "      <td>8</td>\n",
       "      <td>2016</td>\n",
       "      <td>Non Fiction</td>\n",
       "    </tr>\n",
       "    <tr>\n",
       "      <th>1</th>\n",
       "      <td>11/22/63: A Novel</td>\n",
       "      <td>Stephen King</td>\n",
       "      <td>4.6</td>\n",
       "      <td>2052</td>\n",
       "      <td>22</td>\n",
       "      <td>2011</td>\n",
       "      <td>Fiction</td>\n",
       "    </tr>\n",
       "    <tr>\n",
       "      <th>2</th>\n",
       "      <td>12 Rules for Life: An Antidote to Chaos</td>\n",
       "      <td>Jordan B. Peterson</td>\n",
       "      <td>4.7</td>\n",
       "      <td>18979</td>\n",
       "      <td>15</td>\n",
       "      <td>2018</td>\n",
       "      <td>Non Fiction</td>\n",
       "    </tr>\n",
       "    <tr>\n",
       "      <th>3</th>\n",
       "      <td>1984 (Signet Classics)</td>\n",
       "      <td>George Orwell</td>\n",
       "      <td>4.7</td>\n",
       "      <td>21424</td>\n",
       "      <td>6</td>\n",
       "      <td>2017</td>\n",
       "      <td>Fiction</td>\n",
       "    </tr>\n",
       "    <tr>\n",
       "      <th>4</th>\n",
       "      <td>5,000 Awesome Facts (About Everything!) (Natio...</td>\n",
       "      <td>National Geographic Kids</td>\n",
       "      <td>4.8</td>\n",
       "      <td>7665</td>\n",
       "      <td>12</td>\n",
       "      <td>2019</td>\n",
       "      <td>Non Fiction</td>\n",
       "    </tr>\n",
       "  </tbody>\n",
       "</table>\n",
       "</div>"
      ],
      "text/plain": [
       "                                                name  \\\n",
       "0                      10-Day Green Smoothie Cleanse   \n",
       "1                                  11/22/63: A Novel   \n",
       "2            12 Rules for Life: An Antidote to Chaos   \n",
       "3                             1984 (Signet Classics)   \n",
       "4  5,000 Awesome Facts (About Everything!) (Natio...   \n",
       "\n",
       "                     author  user_rating  reviews  price  year        genre  \n",
       "0                  JJ Smith          4.7    17350      8  2016  Non Fiction  \n",
       "1              Stephen King          4.6     2052     22  2011      Fiction  \n",
       "2        Jordan B. Peterson          4.7    18979     15  2018  Non Fiction  \n",
       "3             George Orwell          4.7    21424      6  2017      Fiction  \n",
       "4  National Geographic Kids          4.8     7665     12  2019  Non Fiction  "
      ]
     },
     "execution_count": 5,
     "metadata": {},
     "output_type": "execute_result"
    }
   ],
   "source": [
    "#4.\tЗмініть назви всіх колонок: назва з маленької букви, без пробілів через підкреслення.\n",
    "data = pd.read_csv(\"C:/Users/Саша/Desktop/bestsellers with categories.csv\", encoding=\"cp1251\")\n",
    "data.columns = [\"name\", \"author\", \"user_rating\", \"reviews\", \"price\", \"year\", \"genre\"]\n",
    "df = pd.DataFrame(data)\n",
    "df.head(5)"
   ]
  },
  {
   "cell_type": "code",
   "execution_count": 6,
   "id": "0df8da29",
   "metadata": {},
   "outputs": [
    {
     "name": "stdout",
     "output_type": "stream",
     "text": [
      "name           0\n",
      "author         0\n",
      "user_rating    0\n",
      "reviews        0\n",
      "price          0\n",
      "year           0\n",
      "genre          0\n",
      "dtype: int64\n"
     ]
    }
   ],
   "source": [
    "#5.\tВивести кількість пропусків у кожному стовпчику.\n",
    "values = data.isna().sum()\n",
    "print(values)\n",
    "#пропусків немає"
   ]
  },
  {
   "cell_type": "code",
   "execution_count": 8,
   "id": "0ef963a2",
   "metadata": {},
   "outputs": [
    {
     "name": "stdout",
     "output_type": "stream",
     "text": [
      "два жанри ['Non Fiction' 'Fiction']\n"
     ]
    }
   ],
   "source": [
    "#6.\tЗа допомогою методу unique  перевірте. Які є унікальні жанри в стовпці genre \n",
    "\n",
    "genres = data[\"genre\"].unique()\n",
    "\n",
    "print(\"два жанри\", genres)"
   ]
  },
  {
   "cell_type": "code",
   "execution_count": 15,
   "id": "95d2cbdc",
   "metadata": {},
   "outputs": [
    {
     "name": "stdout",
     "output_type": "stream",
     "text": [
      "Максимальна ціна: 105 \n",
      "Мінімальна ціна: 0 \n",
      "Середня ціна: 13.1 \n",
      "Медіанна ціна: 11.0\n"
     ]
    }
   ],
   "source": [
    "#7.\tВизначте максимальну, мінімальну, медіанну ціну за допомогою методів  max, min, mean, median\n",
    "max_price = data[\"price\"].max()\n",
    "min_price = data[\"price\"].min()\n",
    "mean_price = data[\"price\"].mean()\n",
    "median_price = data[\"price\"].median()\n",
    "\n",
    "print(f\"Максимальна ціна: {max_price} \\nМінімальна ціна: {min_price} \\n\"\n",
    "      f\"Середня ціна: {mean_price} \\nМедіанна ціна: {median_price}\")\n"
   ]
  },
  {
   "cell_type": "code",
   "execution_count": 18,
   "id": "67adb0ef",
   "metadata": {},
   "outputs": [
    {
     "name": "stdout",
     "output_type": "stream",
     "text": [
      "Максимальний рейтинг в датасеті: 4.9 \n",
      "\n",
      "Кількість книг з високим  рейтингом: 52 \n",
      "\n",
      "Книга з найбільшою кількістю відгуків: Where the Crawdads Sing\n",
      "\n",
      "З тих книг, що потрапили до Топ-50 у 2010 році, найдорожча книга: \n",
      "Publication Manual of the American Psychological Association, 6th Edition\n",
      "\n",
      "Кількість книг жанру 'Fiction', які потрапили до Топ-50 у 2012 році: 20\n",
      "\n",
      "Кількість книг з рейтингом 4.9, які потрапили до Топ-50 у 2010 або 2011 роках: 1\n"
     ]
    }
   ],
   "source": [
    "#Який рейтинг у датасеті найвищий?\n",
    "max_rating = data[\"user_rating\"].max()\n",
    "\n",
    "#Скільки книг мають такий рейтинг? \n",
    "max_rating_book = data[data[\"user_rating\"] == max_rating]\n",
    "count_books = len(max_rating_book)\n",
    "\n",
    "#Яка книга має найбільше відгуків?\n",
    "max_reviews = data.loc[data[\"reviews\"].idxmax()]\n",
    "name_of_book = max_reviews[\"name\"]\n",
    "\n",
    "#З тих книг, що потрапили до Топ-50 у 2010 році, яка книга найдорожча ?\n",
    "max_year = data[(data[\"year\"] == 2010)]\n",
    "max_price = max_year[\"price\"].max()\n",
    "most_expensive_book = max_year[max_year[\"price\"] == max_price]\n",
    "\n",
    "#Скільки книг жанру Fiction потрапили до Топ-50 у 2012 році  \n",
    "fiction = data[(data[\"genre\"] == \"Fiction\")]\n",
    "date = fiction[(fiction[\"year\"] == 2010)]\n",
    "book_count = len(date)\n",
    "\n",
    "# Скільки книг з рейтингом 4.9 потрапило до рейтингу у 2010 та 2011 роках (використовуйте | або метод isin)?\n",
    "big_rating = data[(data[\"user_rating\"] == 4.9) & (data[\"year\"].isin([2010, 2011]))]\n",
    "books = len(big_rating)\n",
    "\n",
    "print(f\"Максимальний рейтинг в датасеті: {max_rating} \\n\\nКількість книг з високим \",\n",
    "      f\"рейтингом: {count_books} \\n\\nКнига з найбільшою кількістю відгуків: {name_of_book}\")\n",
    "print(f\"\\nЗ тих книг, що потрапили до Топ-50 у 2010 році, найдорожча книга: \\n{most_expensive_book['name'].iloc[0]}\")   \n",
    "print(f\"\\nКількість книг жанру 'Fiction', які потрапили до Топ-50 у 2012 році: {book_count}\")\n",
    "print(f\"\\nКількість книг з рейтингом 4.9, які потрапили до Топ-50 у 2010 або 2011 роках: {books}\")"
   ]
  },
  {
   "cell_type": "code",
   "execution_count": 20,
   "id": "cb9900ad",
   "metadata": {},
   "outputs": [
    {
     "name": "stdout",
     "output_type": "stream",
     "text": [
      "            price     \n",
      "              min  max\n",
      "genre                 \n",
      "Fiction         0   82\n",
      "Non Fiction     0  105\n"
     ]
    }
   ],
   "source": [
    "#9.Вивести максимальну і  мінімальну ціну для жанру Fiction I NonFiction (за допомогою методів  groupby та agg,\n",
    "#для підрахунку мінімальних та максимальних значень використовуйте max та min). Використовуйте тількі потрібні вам стовпці.\n",
    "filteredf = data[data[\"genre\"].isin([\"Fiction\", \"Non Fiction\"])]\n",
    "\n",
    "matchedcols = {\n",
    "    \"price\": [\"min\", \"max\"]\n",
    "}\n",
    "\n",
    "result = filteredf.groupby(\"genre\").agg(matchedcols)\n",
    "print(result)"
   ]
  },
  {
   "cell_type": "code",
   "execution_count": null,
   "id": "b8dc0b23",
   "metadata": {},
   "outputs": [],
   "source": []
  }
 ],
 "metadata": {
  "kernelspec": {
   "display_name": "Python 3 (ipykernel)",
   "language": "python",
   "name": "python3"
  },
  "language_info": {
   "codemirror_mode": {
    "name": "ipython",
    "version": 3
   },
   "file_extension": ".py",
   "mimetype": "text/x-python",
   "name": "python",
   "nbconvert_exporter": "python",
   "pygments_lexer": "ipython3",
   "version": "3.11.3"
  }
 },
 "nbformat": 4,
 "nbformat_minor": 5
}
