{
 "cells": [
  {
   "cell_type": "code",
   "execution_count": 1,
   "id": "73c3f48d",
   "metadata": {},
   "outputs": [],
   "source": [
    "import pyspark\n",
    "from pyspark.sql import SparkSession\n",
    "import pandas as pd\n",
    "import numpy as np\n",
    "\n"
   ]
  },
  {
   "cell_type": "code",
   "execution_count": 49,
   "id": "3a63f7d5",
   "metadata": {},
   "outputs": [],
   "source": [
    "#1 Завдання Прочитайте CSV файл spark.read.csv()\n",
    "spark = SparkSession.builder.appName(\"PythonSparkCSV\").getOrCreate()\n",
    "\n",
    "df = spark.read.csv(\"C:/Users/Саша/Desktop/bestsellers with categories.csv\")\n",
    "\n"
   ]
  },
  {
   "cell_type": "code",
   "execution_count": 50,
   "id": "b993c87c",
   "metadata": {},
   "outputs": [
    {
     "name": "stdout",
     "output_type": "stream",
     "text": [
      "root\n",
      " |-- _c0: string (nullable = true)\n",
      " |-- _c1: string (nullable = true)\n",
      " |-- _c2: string (nullable = true)\n",
      " |-- _c3: string (nullable = true)\n",
      " |-- _c4: string (nullable = true)\n",
      " |-- _c5: string (nullable = true)\n",
      " |-- _c6: string (nullable = true)\n",
      "\n"
     ]
    }
   ],
   "source": [
    "#2 Завдання вивести схему даних за допомогою PrintSchema.\n",
    "\n",
    "df.printSchema()\n"
   ]
  },
  {
   "cell_type": "code",
   "execution_count": 51,
   "id": "3d64f72c",
   "metadata": {},
   "outputs": [
    {
     "data": {
      "text/plain": [
       "[('_c0', 'string'),\n",
       " ('_c1', 'string'),\n",
       " ('_c2', 'string'),\n",
       " ('_c3', 'string'),\n",
       " ('_c4', 'string'),\n",
       " ('_c5', 'string'),\n",
       " ('_c6', 'string')]"
      ]
     },
     "execution_count": 51,
     "metadata": {},
     "output_type": "execute_result"
    }
   ],
   "source": [
    "#3 Завдання Вивести назви стовпців і типи даних за допомогою dtypes\n",
    "df.dtypes\n"
   ]
  },
  {
   "cell_type": "code",
   "execution_count": 52,
   "id": "125bd28e",
   "metadata": {},
   "outputs": [
    {
     "data": {
      "text/plain": [
       "[Row(_c0='Name', _c1='Author', _c2='User Rating', _c3='Reviews', _c4='Price', _c5='Year', _c6='Genre'),\n",
       " Row(_c0='10-Day Green Smoothie Cleanse', _c1='JJ Smith', _c2='4.7', _c3='17350', _c4='8', _c5='2016', _c6='Non Fiction'),\n",
       " Row(_c0='11/22/63: A Novel', _c1='Stephen King', _c2='4.6', _c3='2052', _c4='22', _c5='2011', _c6='Fiction'),\n",
       " Row(_c0='12 Rules for Life: An Antidote to Chaos', _c1='Jordan B. Peterson', _c2='4.7', _c3='18979', _c4='15', _c5='2018', _c6='Non Fiction'),\n",
       " Row(_c0='1984 (Signet Classics)', _c1='George Orwell', _c2='4.7', _c3='21424', _c4='6', _c5='2017', _c6='Fiction')]"
      ]
     },
     "execution_count": 52,
     "metadata": {},
     "output_type": "execute_result"
    }
   ],
   "source": [
    "#4 Завдання Виведіть перші п'ять рядків (використовується метод head)\n",
    "df.head(5)\n"
   ]
  },
  {
   "cell_type": "code",
   "execution_count": 53,
   "id": "67f15016",
   "metadata": {},
   "outputs": [
    {
     "data": {
      "text/plain": [
       "Row(_c0='Name', _c1='Author', _c2='User Rating', _c3='Reviews', _c4='Price', _c5='Year', _c6='Genre')"
      ]
     },
     "execution_count": 53,
     "metadata": {},
     "output_type": "execute_result"
    }
   ],
   "source": [
    "#5 Завдання Вивести перший рядок за допомогою first()\n",
    "df.first()"
   ]
  },
  {
   "cell_type": "code",
   "execution_count": 55,
   "id": "dacaf844",
   "metadata": {},
   "outputs": [
    {
     "name": "stdout",
     "output_type": "stream",
     "text": [
      "+-------+--------------------+----------------+-------------------+------------------+------------------+------------------+-----------+\n",
      "|summary|                 _c0|             _c1|                _c2|               _c3|               _c4|               _c5|        _c6|\n",
      "+-------+--------------------+----------------+-------------------+------------------+------------------+------------------+-----------+\n",
      "|  count|                 551|             551|                551|               551|               551|               551|        551|\n",
      "|   mean|                null|            null|  4.618363636363641|11953.281818181818|              13.1|            2014.0|       null|\n",
      "| stddev|                null|            null|0.22698036502519656|11731.132017431892|10.842261978422364|3.1651563841692782|       null|\n",
      "|    min|\"The Plant Parado...|Abraham Verghese|                3.3|             10009|                 0|              2009|    Fiction|\n",
      "|    max|You Are a Badass:...|    Zhi Gang Sha|        User Rating|           Reviews|             Price|              Year|Non Fiction|\n",
      "+-------+--------------------+----------------+-------------------+------------------+------------------+------------------+-----------+\n",
      "\n"
     ]
    }
   ],
   "source": [
    "#6 Завдання Зробіть опис датасету за допомогою describe()\n",
    "df.describe().show()\n",
    "\n"
   ]
  },
  {
   "cell_type": "code",
   "execution_count": 56,
   "id": "b9927463",
   "metadata": {},
   "outputs": [
    {
     "data": {
      "text/plain": [
       "['_c0', '_c1', '_c2', '_c3', '_c4', '_c5', '_c6']"
      ]
     },
     "execution_count": 56,
     "metadata": {},
     "output_type": "execute_result"
    }
   ],
   "source": [
    "#7 Завдання виведіть список стовпців за допомогою columns()\n",
    "df.columns"
   ]
  },
  {
   "cell_type": "code",
   "execution_count": 57,
   "id": "93036cab",
   "metadata": {},
   "outputs": [
    {
     "data": {
      "text/plain": [
       "551"
      ]
     },
     "execution_count": 57,
     "metadata": {},
     "output_type": "execute_result"
    }
   ],
   "source": [
    "#8 Завдання виведіть загальну кількість рядків даних за допомогою count()\n",
    "df.count()"
   ]
  },
  {
   "cell_type": "code",
   "execution_count": 58,
   "id": "0384b1ef",
   "metadata": {},
   "outputs": [
    {
     "name": "stdout",
     "output_type": "stream",
     "text": [
      "+--------------------+--------------------+----+-------+----+------+-----------+\n",
      "|                 _c0|                 _c1| _c2|    _c3| _c4|   _c5|        _c6|\n",
      "+--------------------+--------------------+----+-------+----+------+-----------+\n",
      "|                Name|              Author|null|   null|null|  null|      Genre|\n",
      "|10-Day Green Smoo...|            JJ Smith| 4.7|17350.0| 8.0|2016.0|Non Fiction|\n",
      "|   11/22/63: A Novel|        Stephen King| 4.6| 2052.0|22.0|2011.0|    Fiction|\n",
      "|12 Rules for Life...|  Jordan B. Peterson| 4.7|18979.0|15.0|2018.0|Non Fiction|\n",
      "|1984 (Signet Clas...|       George Orwell| 4.7|21424.0| 6.0|2017.0|    Fiction|\n",
      "|5,000 Awesome Fac...|National Geograph...| 4.8| 7665.0|12.0|2019.0|Non Fiction|\n",
      "|A Dance with Drag...| George R. R. Martin| 4.4|12643.0|11.0|2011.0|    Fiction|\n",
      "|A Game of Thrones...| George R. R. Martin| 4.7|19735.0|30.0|2014.0|    Fiction|\n",
      "|A Gentleman in Mo...|         Amor Towles| 4.7|19699.0|15.0|2017.0|    Fiction|\n",
      "|A Higher Loyalty:...|         James Comey| 4.7| 5983.0| 3.0|2018.0|Non Fiction|\n",
      "|A Man Called Ove:...|     Fredrik Backman| 4.6|23848.0| 8.0|2016.0|    Fiction|\n",
      "|A Man Called Ove:...|     Fredrik Backman| 4.6|23848.0| 8.0|2017.0|    Fiction|\n",
      "|A Patriot's Histo...|    Larry Schweikart| 4.6|  460.0| 2.0|2010.0|Non Fiction|\n",
      "|A Stolen Life: A ...|       Jaycee Dugard| 4.6| 4149.0|32.0|2011.0|Non Fiction|\n",
      "|A Wrinkle in Time...|   Madeleine L'Engle| 4.5| 5153.0| 5.0|2018.0|    Fiction|\n",
      "|Act Like a Lady, ...|        Steve Harvey| 4.6| 5013.0|17.0|2009.0|Non Fiction|\n",
      "|Adult Coloring Bo...|Adult Coloring Bo...| 4.5| 2313.0| 4.0|2016.0|Non Fiction|\n",
      "|Adult Coloring Bo...|  Blue Star Coloring| 4.6| 2925.0| 6.0|2015.0|Non Fiction|\n",
      "|Adult Coloring Bo...|  Blue Star Coloring| 4.4| 2951.0| 6.0|2015.0|Non Fiction|\n",
      "|Adult Coloring Bo...|Coloring Books fo...| 4.5| 2426.0| 8.0|2015.0|Non Fiction|\n",
      "+--------------------+--------------------+----+-------+----+------+-----------+\n",
      "only showing top 20 rows\n",
      "\n"
     ]
    }
   ],
   "source": [
    "#9 Завдання Перевірте, чи у всіх рядків вистачає даних. Якщо є пропуски, замінить\n",
    "#їх на NaN, потім тип даних на числовий.\n",
    "from pyspark.sql.functions import isnan, when, count, col\n",
    "\n",
    "\n",
    "for c in df.columns:\n",
    "    df = df.withColumn(c, when(col(c).isNull(), np.nan).otherwise(col(c)))\n",
    "\n",
    "# змінити тип даних числових стовпців\n",
    "numeric_cols = ['_c2', '_c3', '_c4', '_c5']\n",
    "for ncol in numeric_cols:\n",
    "    df = df.withColumn(ncol, df[ncol].cast(\"float\"))\n",
    "df.show()"
   ]
  },
  {
   "cell_type": "code",
   "execution_count": 59,
   "id": "7ee9a5fa",
   "metadata": {},
   "outputs": [
    {
     "name": "stdout",
     "output_type": "stream",
     "text": [
      "+--------------------+--------------------+--------+---------+----+------+-----------+\n",
      "|                 _c0|                 _c1|     _c2|      _c3| _c4|   _c5|        _c6|\n",
      "+--------------------+--------------------+--------+---------+----+------+-----------+\n",
      "|                Name|              Author|4.618364|11953.282|13.1|2014.0|      Genre|\n",
      "|10-Day Green Smoo...|            JJ Smith|     4.7|  17350.0| 8.0|2016.0|Non Fiction|\n",
      "|   11/22/63: A Novel|        Stephen King|     4.6|   2052.0|22.0|2011.0|    Fiction|\n",
      "|12 Rules for Life...|  Jordan B. Peterson|     4.7|  18979.0|15.0|2018.0|Non Fiction|\n",
      "|1984 (Signet Clas...|       George Orwell|     4.7|  21424.0| 6.0|2017.0|    Fiction|\n",
      "|5,000 Awesome Fac...|National Geograph...|     4.8|   7665.0|12.0|2019.0|Non Fiction|\n",
      "|A Dance with Drag...| George R. R. Martin|     4.4|  12643.0|11.0|2011.0|    Fiction|\n",
      "|A Game of Thrones...| George R. R. Martin|     4.7|  19735.0|30.0|2014.0|    Fiction|\n",
      "|A Gentleman in Mo...|         Amor Towles|     4.7|  19699.0|15.0|2017.0|    Fiction|\n",
      "|A Higher Loyalty:...|         James Comey|     4.7|   5983.0| 3.0|2018.0|Non Fiction|\n",
      "|A Man Called Ove:...|     Fredrik Backman|     4.6|  23848.0| 8.0|2016.0|    Fiction|\n",
      "|A Man Called Ove:...|     Fredrik Backman|     4.6|  23848.0| 8.0|2017.0|    Fiction|\n",
      "|A Patriot's Histo...|    Larry Schweikart|     4.6|    460.0| 2.0|2010.0|Non Fiction|\n",
      "|A Stolen Life: A ...|       Jaycee Dugard|     4.6|   4149.0|32.0|2011.0|Non Fiction|\n",
      "|A Wrinkle in Time...|   Madeleine L'Engle|     4.5|   5153.0| 5.0|2018.0|    Fiction|\n",
      "|Act Like a Lady, ...|        Steve Harvey|     4.6|   5013.0|17.0|2009.0|Non Fiction|\n",
      "|Adult Coloring Bo...|Adult Coloring Bo...|     4.5|   2313.0| 4.0|2016.0|Non Fiction|\n",
      "|Adult Coloring Bo...|  Blue Star Coloring|     4.6|   2925.0| 6.0|2015.0|Non Fiction|\n",
      "|Adult Coloring Bo...|  Blue Star Coloring|     4.4|   2951.0| 6.0|2015.0|Non Fiction|\n",
      "|Adult Coloring Bo...|Coloring Books fo...|     4.5|   2426.0| 8.0|2015.0|Non Fiction|\n",
      "+--------------------+--------------------+--------+---------+----+------+-----------+\n",
      "only showing top 20 rows\n",
      "\n"
     ]
    }
   ],
   "source": [
    "#10 Завдання Замініть комірки з пропущеними значенями на середні за стовпцем. І тип даних на float.\n",
    "from pyspark.sql.functions import avg\n",
    "\n",
    "num_cols = ['_c2', '_c3', '_c4', '_c5']\n",
    "\n",
    "for col_name in num_cols:\n",
    "\n",
    "    mean_value = df.select(avg(col_name)).first()[0]\n",
    "    \n",
    "    df = df.withColumn(\n",
    "        col_name, \n",
    "        when(col(col_name).isNull(), mean_value).otherwise(col(col_name))\n",
    "    )\n",
    "    \n",
    "    df = df.withColumn(\n",
    "        col_name, \n",
    "        df[col_name].cast(\"float\")\n",
    "    )\n",
    "df.show()"
   ]
  },
  {
   "cell_type": "code",
   "execution_count": 60,
   "id": "4b0355b1",
   "metadata": {},
   "outputs": [
    {
     "name": "stdout",
     "output_type": "stream",
     "text": [
      "Кількість книг _c0: 551\n"
     ]
    }
   ],
   "source": [
    "#Скільки книг в датасеті\n",
    "from pyspark.sql.functions import col, count\n",
    "column = '_c0'\n",
    "\n",
    "count = df.select(count(col(column))).first()[0] \n",
    "\n",
    "print(f\"Кількість книг {column}: {count}\")"
   ]
  },
  {
   "cell_type": "code",
   "execution_count": 62,
   "id": "4ac3b63f",
   "metadata": {},
   "outputs": [
    {
     "name": "stdout",
     "output_type": "stream",
     "text": [
      "+--------------------+--------------------+-----------+---------+-----+------+-----------+\n",
      "|                name|              author|user_rating|  reviews|price|  year|      genre|\n",
      "+--------------------+--------------------+-----------+---------+-----+------+-----------+\n",
      "|                Name|              Author|   4.618364|11953.282| 13.1|2014.0|      Genre|\n",
      "|10-Day Green Smoo...|            JJ Smith|        4.7|  17350.0|  8.0|2016.0|Non Fiction|\n",
      "|   11/22/63: A Novel|        Stephen King|        4.6|   2052.0| 22.0|2011.0|    Fiction|\n",
      "|12 Rules for Life...|  Jordan B. Peterson|        4.7|  18979.0| 15.0|2018.0|Non Fiction|\n",
      "|1984 (Signet Clas...|       George Orwell|        4.7|  21424.0|  6.0|2017.0|    Fiction|\n",
      "|5,000 Awesome Fac...|National Geograph...|        4.8|   7665.0| 12.0|2019.0|Non Fiction|\n",
      "|A Dance with Drag...| George R. R. Martin|        4.4|  12643.0| 11.0|2011.0|    Fiction|\n",
      "|A Game of Thrones...| George R. R. Martin|        4.7|  19735.0| 30.0|2014.0|    Fiction|\n",
      "|A Gentleman in Mo...|         Amor Towles|        4.7|  19699.0| 15.0|2017.0|    Fiction|\n",
      "|A Higher Loyalty:...|         James Comey|        4.7|   5983.0|  3.0|2018.0|Non Fiction|\n",
      "|A Man Called Ove:...|     Fredrik Backman|        4.6|  23848.0|  8.0|2016.0|    Fiction|\n",
      "|A Man Called Ove:...|     Fredrik Backman|        4.6|  23848.0|  8.0|2017.0|    Fiction|\n",
      "|A Patriot's Histo...|    Larry Schweikart|        4.6|    460.0|  2.0|2010.0|Non Fiction|\n",
      "|A Stolen Life: A ...|       Jaycee Dugard|        4.6|   4149.0| 32.0|2011.0|Non Fiction|\n",
      "|A Wrinkle in Time...|   Madeleine L'Engle|        4.5|   5153.0|  5.0|2018.0|    Fiction|\n",
      "|Act Like a Lady, ...|        Steve Harvey|        4.6|   5013.0| 17.0|2009.0|Non Fiction|\n",
      "|Adult Coloring Bo...|Adult Coloring Bo...|        4.5|   2313.0|  4.0|2016.0|Non Fiction|\n",
      "|Adult Coloring Bo...|  Blue Star Coloring|        4.6|   2925.0|  6.0|2015.0|Non Fiction|\n",
      "|Adult Coloring Bo...|  Blue Star Coloring|        4.4|   2951.0|  6.0|2015.0|Non Fiction|\n",
      "|Adult Coloring Bo...|Coloring Books fo...|        4.5|   2426.0|  8.0|2015.0|Non Fiction|\n",
      "+--------------------+--------------------+-----------+---------+-----+------+-----------+\n",
      "only showing top 20 rows\n",
      "\n"
     ]
    }
   ],
   "source": [
    "#11-12 Завдання Змініть назви всіх колонок: назва з маленької букви, без пробілів через підкреслення.\n",
    "#df.columns = ['name', 'author', 'user_rating', 'reviews', 'price', 'year', 'genre']\n",
    "\n",
    "new_columns = ['name', 'author', 'user_rating', 'reviews', 'price', 'year', 'genre']\n",
    "\n",
    "\n",
    "df = df.toDF(*new_columns) \n",
    "\n",
    "\n",
    "df.show()"
   ]
  },
  {
   "cell_type": "code",
   "execution_count": 64,
   "id": "f9e1e587",
   "metadata": {},
   "outputs": [
    {
     "name": "stdout",
     "output_type": "stream",
     "text": [
      "Author with highest rating: Bill Martin Jr.\n"
     ]
    }
   ],
   "source": [
    "#13 Завдання Знайдіть автора з найвищим рейтингом \n",
    "\n",
    "print(\"Author with highest rating:\",  \n",
    "       df.sort(col(\"user_rating\").desc())\n",
    "         .select(\"author\")\n",
    "         .limit(1) \n",
    "         .first()[\"author\"])"
   ]
  },
  {
   "cell_type": "code",
   "execution_count": 65,
   "id": "a8c2abf3",
   "metadata": {},
   "outputs": [
    {
     "name": "stdout",
     "output_type": "stream",
     "text": [
      "Author with lowest rating: J.K. Rowling\n"
     ]
    }
   ],
   "source": [
    "#14 Завдання Знайдіть автора з найнижчим рейтингом \n",
    "print(\"Author with lowest rating:\",\n",
    "      df.sort(col(\"user_rating\").asc())\n",
    "      .select(\"author\").first()[\"author\"])\n"
   ]
  },
  {
   "cell_type": "code",
   "execution_count": 66,
   "id": "9b14d81b",
   "metadata": {},
   "outputs": [
    {
     "name": "stdout",
     "output_type": "stream",
     "text": [
      "Author with most reviews: Delia Owens\n"
     ]
    }
   ],
   "source": [
    "#15 Завдання знайдіть автора, що має найбільшу кількіть рецензій.\n",
    "\n",
    "print(\"Author with most reviews:\",\n",
    "      df.sort(col(\"reviews\").desc())\n",
    "      .select(\"author\").first()[\"author\"])\n"
   ]
  },
  {
   "cell_type": "code",
   "execution_count": 68,
   "id": "18143859",
   "metadata": {},
   "outputs": [
    {
     "data": {
      "image/png": "[encoded data removed]",
      "text/plain": [
       "<Figure size 640x480 with 1 Axes>"
      ]
     },
     "metadata": {},
     "output_type": "display_data"
    }
   ],
   "source": [
    "#16 Завдання Побудуйте гістограму рейтингу 10 найкращих книг (відібрати книги з\n",
    "#найбільшим рейтингом).\n",
    "top10 = df.sort(col(\"user_rating\").desc()).limit(10) \n",
    "ratings = top10.select(\"user_rating\")\n",
    "import matplotlib.pyplot as plt\n",
    "%matplotlib inline  \n",
    "ratings.toPandas().plot(kind='hist') \n",
    "plt.title(\"Rating distribution for top 10 books\")\n",
    "plt.show()"
   ]
  },
  {
   "cell_type": "code",
   "execution_count": 70,
   "id": "9272b228",
   "metadata": {},
   "outputs": [
    {
     "name": "stdout",
     "output_type": "stream",
     "text": [
      "Correlation matrix: Row(user_rating_reviews=-0.001729008831964381, user_rating_price=-0.13308630757790588, reviews_price=-0.10918188342780541)\n"
     ]
    }
   ],
   "source": [
    "#17 Завдання Побудуйте матрицю кореляції для стовпчиків user_rating', 'reviews', price\n",
    "\n",
    "from pyspark.sql.functions import col, corr\n",
    "\n",
    "corr_mat = df.select(\n",
    "   corr(col(\"user_rating\"), col(\"reviews\")).alias(\"user_rating_reviews\"),\n",
    "   corr(col(\"user_rating\"), col(\"price\")).alias(\"user_rating_price\"), \n",
    "   corr(col(\"reviews\"), col(\"price\")).alias(\"reviews_price\")\n",
    ").first()\n",
    "\n",
    "print(\"Correlation matrix:\",corr_mat)\n"
   ]
  },
  {
   "cell_type": "code",
   "execution_count": null,
   "id": "c1613611",
   "metadata": {},
   "outputs": [],
   "source": []
  }
 ],
 "metadata": {
  "kernelspec": {
   "display_name": "Python 3 (ipykernel)",
   "language": "python",
   "name": "python3"
  },
  "language_info": {
   "codemirror_mode": {
    "name": "ipython",
    "version": 3
   },
   "file_extension": ".py",
   "mimetype": "text/x-python",
   "name": "python",
   "nbconvert_exporter": "python",
   "pygments_lexer": "ipython3",
   "version": "3.11.5"
  }
 },
 "nbformat": 4,
 "nbformat_minor": 5
}
